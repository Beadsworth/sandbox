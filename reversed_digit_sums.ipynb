{
 "cells": [
  {
   "cell_type": "code",
   "execution_count": 186,
   "metadata": {},
   "outputs": [],
   "source": [
    "import functools\n",
    "import random\n",
    "import time\n",
    "import matplotlib.pyplot as plt\n",
    "from collections import defaultdict\n",
    "import math\n",
    "import tqdm\n",
    "import pandas as pd"
   ]
  },
  {
   "cell_type": "code",
   "execution_count": 197,
   "metadata": {},
   "outputs": [],
   "source": [
    "def rand_arr_n(array_size):\n",
    "    arr = [random.randint(0, 100) for i in range(array_size)]\n",
    "    return tuple(arr)\n",
    "\n",
    "def rand_arr():\n",
    "    array_size = random.randint(2, 10)\n",
    "    return rand_arr_n(array_size)"
   ]
  },
  {
   "cell_type": "code",
   "execution_count": 198,
   "metadata": {},
   "outputs": [],
   "source": [
    "def timeit(iterations, func, should_print=False, *args, **kwargs):\n",
    "    start = time.time()\n",
    "    \n",
    "    for i in range(iterations):\n",
    "        func(*args, **kwargs)\n",
    "    \n",
    "    stop = time.time()\n",
    "    seconds_elapsed = stop - start\n",
    "    if should_print:\n",
    "        print(f'{seconds_elapsed} seconds elapsed after {iterations} iterations')\n",
    "    return seconds_elapsed"
   ]
  },
  {
   "cell_type": "code",
   "execution_count": 199,
   "metadata": {},
   "outputs": [],
   "source": [
    "def rev(num):\n",
    " \n",
    "    rev_num = 0\n",
    " \n",
    "    # Loop to iterate till \n",
    "    # the number is greater than 0\n",
    "    while (num > 0):\n",
    " \n",
    "        # Extract the last digit and keep\n",
    "        # multiplying it by 10 to get the\n",
    "        # reverse of the number\n",
    "        rev_num = rev_num * 10 + num % 10\n",
    "        num = num // 10\n",
    "  \n",
    "    return rev_num"
   ]
  },
  {
   "cell_type": "code",
   "execution_count": 200,
   "metadata": {},
   "outputs": [],
   "source": [
    "def oppositeSums(arr):\n",
    "    temp = 0\n",
    "    for i in range(len(arr)):\n",
    "        for j in range(len(arr)):\n",
    "            if(i <= j and arr[i] + rev(arr[j]) == arr[j] + rev(arr[i])):\n",
    "                temp += 1\n",
    "    return temp"
   ]
  },
  {
   "cell_type": "code",
   "execution_count": 201,
   "metadata": {},
   "outputs": [],
   "source": [
    "def test_algo(arrays, func2):\n",
    "    \"\"\"test the algo on all test arrays\"\"\"\n",
    "    for arr in arrays:\n",
    "        func2(arr)"
   ]
  },
  {
   "cell_type": "code",
   "execution_count": 212,
   "metadata": {},
   "outputs": [],
   "source": [
    "def comb_with_repl(n, r):\n",
    "    \"\"\"combination with replacement, see https://www.mathsisfun.com/combinatorics/combinations-permutations.html\"\"\"\n",
    "    return math.comb(n+r-1, r)\n",
    "\n",
    "def rev_diff(num):\n",
    "    \"\"\"a number minus its reverse\"\"\"\n",
    "    return num - rev(num)\n",
    "\n",
    "def oppositeSums2(arr):\n",
    "    \"\"\"\n",
    "    A + rev(B) == B + rev(A) -->  A - rev(A) == B - rev(B)\n",
    "    for each num in array, calculate A - rev(A) to get a list of diffs\n",
    "    from this list of diffs, get a list of unique diff values\n",
    "    from unique values, calculate nCr with replacement\n",
    "    \"\"\"\n",
    "    \n",
    "    # calculate A - rev(A) for each num in arr\n",
    "    diffs = [rev_diff(num) for num in arr]\n",
    "    \n",
    "    # count number of occurances for each diff\n",
    "    diff_counts = defaultdict(int)\n",
    "    for diff in diffs:\n",
    "        diff_counts[diff] += 1\n",
    "    \n",
    "    \n",
    "    # retrieve unique values from hash table O(N)\n",
    "    uniques = []\n",
    "    for diff in diffs:\n",
    "        uniques.append(diff_counts[diff])\n",
    "        # empty counts for this diff, prevent double-counts\n",
    "        diff_counts[diff] = 0\n",
    "       \n",
    "    # for each unique diff, calculate nCr with replacement\n",
    "    combos = [comb_with_repl(unique, 2) for unique in uniques]\n",
    "    \n",
    "    # return sum of all combos, i.e. the answer\n",
    "    return sum(combos)"
   ]
  },
  {
   "cell_type": "markdown",
   "metadata": {},
   "source": [
    "Create a list of 1 million test arrays (random sizes, random numbers), then check to make sure both algos produce the same results."
   ]
  },
  {
   "cell_type": "code",
   "execution_count": 203,
   "metadata": {},
   "outputs": [],
   "source": [
    "test_arrays = [rand_arr() for i in range(1_000_000)]"
   ]
  },
  {
   "cell_type": "code",
   "execution_count": 205,
   "metadata": {
    "collapsed": true,
    "jupyter": {
     "outputs_hidden": true,
     "source_hidden": true
    }
   },
   "outputs": [
    {
     "name": "stderr",
     "output_type": "stream",
     "text": [
      "100%|███████████████████████████████████████████████████████████████████████████████████████████████████████████████████████████████████████████████████████████████████████████████████████████████████████████████████████████████████████████████████████████████████████████████████████████████████████| 1000000/1000000 [00:24<00:00, 40306.46it/s]"
     ]
    },
    {
     "name": "stdout",
     "output_type": "stream",
     "text": [
      "done\n"
     ]
    },
    {
     "name": "stderr",
     "output_type": "stream",
     "text": [
      "\n"
     ]
    }
   ],
   "source": [
    "# test that the algorithms produce the same results\n",
    "for test_arr in tqdm.tqdm(test_arrays):\n",
    "    \n",
    "    outcome_1 = oppositeSums(test_arr)\n",
    "    outcome_2 = oppositeSums2(test_arr)\n",
    "    matching = outcome_1 == outcome_2\n",
    "    \n",
    "    if not matching:\n",
    "        print(f'not matching: outcome_1 = {outcome_1} vs outcome_2 = {outcome_2}')\n",
    "        \n",
    "print('done')"
   ]
  },
  {
   "cell_type": "markdown",
   "metadata": {
    "jupyter": {
     "source_hidden": true
    }
   },
   "source": [
    "Test how long each algo takes to compute 1 million arrays."
   ]
  },
  {
   "cell_type": "code",
   "execution_count": 208,
   "metadata": {},
   "outputs": [
    {
     "name": "stdout",
     "output_type": "stream",
     "text": [
      "14.553049564361572 seconds elapsed after 1 iterations\n"
     ]
    },
    {
     "data": {
      "text/plain": [
       "14.553049564361572"
      ]
     },
     "execution_count": 208,
     "metadata": {},
     "output_type": "execute_result"
    }
   ],
   "source": [
    "timeit(should_print=True, iterations=1, func=test_algo, arrays=arrays, func2=oppositeSums)"
   ]
  },
  {
   "cell_type": "code",
   "execution_count": 209,
   "metadata": {},
   "outputs": [
    {
     "name": "stdout",
     "output_type": "stream",
     "text": [
      "6.718925476074219 seconds elapsed after 1 iterations\n"
     ]
    },
    {
     "data": {
      "text/plain": [
       "6.718925476074219"
      ]
     },
     "execution_count": 209,
     "metadata": {},
     "output_type": "execute_result"
    }
   ],
   "source": [
    "timeit(should_print=True, iterations=1, func=test_algo, arrays=arrays, func2=oppositeSums2)"
   ]
  },
  {
   "cell_type": "markdown",
   "metadata": {},
   "source": [
    "For arrays of size 1 though 99, generate an array and time 1,000 iterations of the algo.\n",
    "\n",
    "The plot below shows algo_1 has O(N<sup>2</sup>), while algo_2 has O(N)."
   ]
  },
  {
   "cell_type": "code",
   "execution_count": 210,
   "metadata": {},
   "outputs": [
    {
     "name": "stderr",
     "output_type": "stream",
     "text": [
      "100%|████████████████████████████████████████████████████████████████████████████████████████████████████████████████████████████████████████████████████████████████████████████████████████████████████████████████████████████████████████████████████████████████████████████████████████████████████████████████████| 99/99 [01:42<00:00,  1.04s/it]\n"
     ]
    }
   ],
   "source": [
    "dict_list = []\n",
    "for i in tqdm.tqdm(range(1, 100)):\n",
    "    test_array = rand_arr_n(i)\n",
    "    time_1 = timeit(iterations=1_000, func=oppositeSums, arr=test_array)\n",
    "    time_2 = timeit(iterations=1_000, func=oppositeSums2, arr=test_array)\n",
    "    \n",
    "    dict_list.append({'array_size': i, 'time_1': time_1, 'time_2': time_2})\n",
    "    \n",
    "time_results = pd.DataFrame(dict_list)"
   ]
  },
  {
   "cell_type": "code",
   "execution_count": 211,
   "metadata": {},
   "outputs": [
    {
     "name": "stdout",
     "output_type": "stream",
     "text": [
      "Using matplotlib backend: module://ipympl.backend_nbagg\n"
     ]
    },
    {
     "data": {
      "application/vnd.jupyter.widget-view+json": {
       "model_id": "ab06cc067fb047428406c4d55a53e142",
       "version_major": 2,
       "version_minor": 0
      },
      "text/plain": [
       "Canvas(toolbar=Toolbar(toolitems=[('Home', 'Reset original view', 'home', 'home'), ('Back', 'Back to previous …"
      ]
     },
     "metadata": {},
     "output_type": "display_data"
    },
    {
     "data": {
      "text/plain": [
       "<matplotlib.legend.Legend at 0x1fda623c9a0>"
      ]
     },
     "execution_count": 211,
     "metadata": {},
     "output_type": "execute_result"
    }
   ],
   "source": [
    "%matplotlib\n",
    "plt.scatter(x=time_results['array_size'], y=time_results['time_1'], label='time_1')\n",
    "plt.scatter(x=time_results['array_size'], y=time_results['time_2'], label='time_2')\n",
    "plt.legend()"
   ]
  }
 ],
 "metadata": {
  "kernelspec": {
   "display_name": "Python 3",
   "language": "python",
   "name": "python3"
  },
  "language_info": {
   "codemirror_mode": {
    "name": "ipython",
    "version": 3
   },
   "file_extension": ".py",
   "mimetype": "text/x-python",
   "name": "python",
   "nbconvert_exporter": "python",
   "pygments_lexer": "ipython3",
   "version": "3.8.3"
  }
 },
 "nbformat": 4,
 "nbformat_minor": 4
}
